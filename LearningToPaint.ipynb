{
 "cells": [
  {
   "cell_type": "markdown",
   "metadata": {
    "colab_type": "text",
    "id": "view-in-github"
   },
   "source": [
    "<a href=\"https://colab.research.google.com/github/hzwer/LearningToPaint/blob/master/LearningToPaint.ipynb\" target=\"_parent\"><img src=\"https://colab.research.google.com/assets/colab-badge.svg\" alt=\"Open In Colab\"/></a>"
   ]
  },
  {
   "cell_type": "code",
   "execution_count": 1,
   "metadata": {
    "colab": {},
    "colab_type": "code",
    "id": "TFN3oT1Hkjfs"
   },
   "outputs": [
    {
     "name": "stdout",
     "output_type": "stream",
     "text": [
      "Cloning into 'LearningToPaint'...\n",
      "remote: Enumerating objects: 459, done.\u001b[K\n",
      "remote: Counting objects: 100% (27/27), done.\u001b[K\n",
      "remote: Compressing objects: 100% (26/26), done.\u001b[K\n",
      "remote: Total 459 (delta 14), reused 2 (delta 1), pack-reused 432\u001b[K\n",
      "Receiving objects: 100% (459/459), 18.66 MiB | 55.23 MiB/s, done.\n",
      "Resolving deltas: 100% (247/247), done.\n"
     ]
    }
   ],
   "source": [
    "!git clone https://github.com/hzwer/LearningToPaint.git"
   ]
  },
  {
   "cell_type": "code",
   "execution_count": 2,
   "metadata": {
    "colab": {},
    "colab_type": "code",
    "id": "Dp7N29tGkwQs"
   },
   "outputs": [
    {
     "name": "stdout",
     "output_type": "stream",
     "text": [
      "/home/ubuntu/ICCV2019-LearningToPaint/LearningToPaint\n"
     ]
    }
   ],
   "source": [
    "cd LearningToPaint/"
   ]
  },
  {
   "cell_type": "markdown",
   "metadata": {
    "colab_type": "text",
    "id": "qTbhmFyawzhO"
   },
   "source": [
    "Testing "
   ]
  },
  {
   "cell_type": "code",
   "execution_count": 3,
   "metadata": {
    "colab": {},
    "colab_type": "code",
    "id": "z0wTTzOEbvps"
   },
   "outputs": [
    {
     "name": "stdout",
     "output_type": "stream",
     "text": [
      "--2021-10-24 16:18:25--  https://drive.google.com/uc?export=download&id=1-7dVdjCIZIxh8hHJnGTK-RA1-jL1tor4\n",
      "Resolving drive.google.com (drive.google.com)... 142.250.191.110, 2607:f8b0:4009:81b::200e\n",
      "Connecting to drive.google.com (drive.google.com)|142.250.191.110|:443... connected.\n",
      "HTTP request sent, awaiting response... 302 Moved Temporarily\n",
      "Location: https://doc-0o-58-docs.googleusercontent.com/docs/securesc/ha0ro937gcuc7l7deffksulhg5h7mbp1/l2b6ljegtclbfc03hoc9gqf826clmk5o/1635092250000/10102393604162075786/*/1-7dVdjCIZIxh8hHJnGTK-RA1-jL1tor4?e=download [following]\n",
      "Warning: wildcards not supported in HTTP.\n",
      "--2021-10-24 16:18:26--  https://doc-0o-58-docs.googleusercontent.com/docs/securesc/ha0ro937gcuc7l7deffksulhg5h7mbp1/l2b6ljegtclbfc03hoc9gqf826clmk5o/1635092250000/10102393604162075786/*/1-7dVdjCIZIxh8hHJnGTK-RA1-jL1tor4?e=download\n",
      "Resolving doc-0o-58-docs.googleusercontent.com (doc-0o-58-docs.googleusercontent.com)... 142.250.190.33, 2607:f8b0:4009:817::2001\n",
      "Connecting to doc-0o-58-docs.googleusercontent.com (doc-0o-58-docs.googleusercontent.com)|142.250.190.33|:443... connected.\n",
      "HTTP request sent, awaiting response... 200 OK\n",
      "Length: 44165821 (42M) [application/octet-stream]\n",
      "Saving to: ‘renderer.pkl’\n",
      "\n",
      "renderer.pkl        100%[===================>]  42.12M  23.5MB/s    in 1.8s    \n",
      "\n",
      "2021-10-24 16:18:29 (23.5 MB/s) - ‘renderer.pkl’ saved [44165821/44165821]\n",
      "\n"
     ]
    }
   ],
   "source": [
    "!wget \"https://drive.google.com/uc?export=download&id=1-7dVdjCIZIxh8hHJnGTK-RA1-jL1tor4\" -O renderer.pkl"
   ]
  },
  {
   "cell_type": "code",
   "execution_count": 4,
   "metadata": {
    "colab": {},
    "colab_type": "code",
    "id": "Pfd53Hw2cfaY"
   },
   "outputs": [
    {
     "name": "stdout",
     "output_type": "stream",
     "text": [
      "--2021-10-24 16:18:34--  https://drive.google.com/uc?export=download&id=1a3vpKgjCVXHON4P7wodqhCgCMPgg1KeR\n",
      "Resolving drive.google.com (drive.google.com)... 142.250.191.110, 2607:f8b0:4009:81b::200e\n",
      "Connecting to drive.google.com (drive.google.com)|142.250.191.110|:443... connected.\n",
      "HTTP request sent, awaiting response... 302 Moved Temporarily\n",
      "Location: https://doc-0c-58-docs.googleusercontent.com/docs/securesc/ha0ro937gcuc7l7deffksulhg5h7mbp1/lvohj2m3c63t6pvj0oojboavhtk6fq21/1635092250000/10102393604162075786/*/1a3vpKgjCVXHON4P7wodqhCgCMPgg1KeR?e=download [following]\n",
      "Warning: wildcards not supported in HTTP.\n",
      "--2021-10-24 16:18:36--  https://doc-0c-58-docs.googleusercontent.com/docs/securesc/ha0ro937gcuc7l7deffksulhg5h7mbp1/lvohj2m3c63t6pvj0oojboavhtk6fq21/1635092250000/10102393604162075786/*/1a3vpKgjCVXHON4P7wodqhCgCMPgg1KeR?e=download\n",
      "Resolving doc-0c-58-docs.googleusercontent.com (doc-0c-58-docs.googleusercontent.com)... 142.250.191.97, 2607:f8b0:4009:817::2001\n",
      "Connecting to doc-0c-58-docs.googleusercontent.com (doc-0c-58-docs.googleusercontent.com)|142.250.191.97|:443... connected.\n",
      "HTTP request sent, awaiting response... 200 OK\n",
      "Length: 44898539 (43M) [application/octet-stream]\n",
      "Saving to: ‘actor.pkl’\n",
      "\n",
      "actor.pkl           100%[===================>]  42.82M  23.8MB/s    in 1.8s    \n",
      "\n",
      "2021-10-24 16:18:38 (23.8 MB/s) - ‘actor.pkl’ saved [44898539/44898539]\n",
      "\n"
     ]
    }
   ],
   "source": [
    "!wget \"https://drive.google.com/uc?export=download&id=1a3vpKgjCVXHON4P7wodqhCgCMPgg1KeR\" -O actor.pkl"
   ]
  },
  {
   "cell_type": "code",
   "execution_count": 14,
   "metadata": {
    "colab": {},
    "colab_type": "code",
    "id": "QZpb3_3QiMZw"
   },
   "outputs": [
    {
     "name": "stdout",
     "output_type": "stream",
     "text": [
      "--2021-10-24 16:25:22--  https://raw.githubusercontent.com/hzwer/LearningToPaint/master/image/test.png\n",
      "Resolving raw.githubusercontent.com (raw.githubusercontent.com)... 185.199.111.133, 185.199.110.133, 185.199.109.133, ...\n",
      "Connecting to raw.githubusercontent.com (raw.githubusercontent.com)|185.199.111.133|:443... connected.\n",
      "HTTP request sent, awaiting response... 200 OK\n",
      "Length: 26422 (26K) [image/png]\n",
      "Saving to: ‘image/test.png’\n",
      "\n",
      "image/test.png      100%[===================>]  25.80K  --.-KB/s    in 0.002s  \n",
      "\n",
      "2021-10-24 16:25:22 (14.5 MB/s) - ‘image/test.png’ saved [26422/26422]\n",
      "\n"
     ]
    }
   ],
   "source": [
    "!wget -U NoSuchBrowser/1.0 -O image/test.png https://raw.githubusercontent.com/hzwer/LearningToPaint/master/image/test.png"
   ]
  },
  {
   "cell_type": "code",
   "execution_count": 15,
   "metadata": {
    "colab": {},
    "colab_type": "code",
    "id": "brX4ZlQoc9ss"
   },
   "outputs": [
    {
     "name": "stdout",
     "output_type": "stream",
     "text": [
      "mkdir: cannot create directory ‘output’: File exists\n",
      "canvas step 0, L2Loss = 0.046781428158283234\n",
      "canvas step 1, L2Loss = 0.035175807774066925\n",
      "canvas step 2, L2Loss = 0.02795751951634884\n",
      "canvas step 3, L2Loss = 0.02448698878288269\n",
      "canvas step 4, L2Loss = 0.02195199392735958\n",
      "canvas step 5, L2Loss = 0.02038591168820858\n",
      "canvas step 6, L2Loss = 0.01822390966117382\n",
      "canvas step 7, L2Loss = 0.01709163561463356\n",
      "canvas step 8, L2Loss = 0.015567038208246231\n",
      "canvas step 9, L2Loss = 0.014592237770557404\n",
      "canvas step 10, L2Loss = 0.0139817139133811\n",
      "canvas step 11, L2Loss = 0.013395457528531551\n",
      "canvas step 12, L2Loss = 0.012826509773731232\n",
      "canvas step 13, L2Loss = 0.012268826365470886\n",
      "canvas step 14, L2Loss = 0.011883508414030075\n",
      "canvas step 15, L2Loss = 0.011501042172312737\n",
      "canvas step 16, L2Loss = 0.011108371429145336\n",
      "canvas step 17, L2Loss = 0.01081669982522726\n",
      "canvas step 18, L2Loss = 0.01049293763935566\n",
      "canvas step 19, L2Loss = 0.010339191183447838\n",
      "canvas step 20, L2Loss = 0.009971344843506813\n",
      "canvas step 21, L2Loss = 0.00967690534889698\n",
      "canvas step 22, L2Loss = 0.009487329982221127\n",
      "canvas step 23, L2Loss = 0.009380850940942764\n",
      "canvas step 24, L2Loss = 0.009313232265412807\n",
      "canvas step 25, L2Loss = 0.009064193814992905\n",
      "canvas step 26, L2Loss = 0.00897725485265255\n",
      "canvas step 27, L2Loss = 0.00879504531621933\n",
      "canvas step 28, L2Loss = 0.008724909275770187\n",
      "canvas step 29, L2Loss = 0.008457506075501442\n",
      "canvas step 30, L2Loss = 0.008354399353265762\n",
      "canvas step 31, L2Loss = 0.008285078220069408\n",
      "canvas step 32, L2Loss = 0.008173532783985138\n",
      "canvas step 33, L2Loss = 0.008123213425278664\n",
      "canvas step 34, L2Loss = 0.008035333827137947\n",
      "canvas step 35, L2Loss = 0.007887941785156727\n",
      "canvas step 36, L2Loss = 0.007786013185977936\n",
      "canvas step 37, L2Loss = 0.007701771333813667\n",
      "canvas step 38, L2Loss = 0.007676079403609037\n",
      "canvas step 39, L2Loss = 0.007586504798382521\n",
      "divided canvas step 0, L2Loss = 0.003654286963865161\n",
      "divided canvas step 1, L2Loss = 0.0026930058375000954\n",
      "divided canvas step 2, L2Loss = 0.0022015594877302647\n",
      "divided canvas step 3, L2Loss = 0.0018772369949147105\n",
      "divided canvas step 4, L2Loss = 0.0016798570286482573\n",
      "divided canvas step 5, L2Loss = 0.001523894490674138\n",
      "divided canvas step 6, L2Loss = 0.0014039997477084398\n",
      "divided canvas step 7, L2Loss = 0.0013179183006286621\n",
      "divided canvas step 8, L2Loss = 0.00122991728130728\n",
      "divided canvas step 9, L2Loss = 0.0011505753500387073\n",
      "divided canvas step 10, L2Loss = 0.0010939895873889327\n",
      "divided canvas step 11, L2Loss = 0.0010382442269474268\n",
      "divided canvas step 12, L2Loss = 0.0009877063566818833\n",
      "divided canvas step 13, L2Loss = 0.0009455944527871907\n",
      "divided canvas step 14, L2Loss = 0.0009078356088139117\n",
      "divided canvas step 15, L2Loss = 0.0008775161113590002\n",
      "divided canvas step 16, L2Loss = 0.0008519492694176733\n",
      "divided canvas step 17, L2Loss = 0.000826033647172153\n",
      "divided canvas step 18, L2Loss = 0.0008068857132457197\n",
      "divided canvas step 19, L2Loss = 0.0007881220662966371\n",
      "divided canvas step 20, L2Loss = 0.0007679188274778426\n",
      "divided canvas step 21, L2Loss = 0.000750772887840867\n",
      "divided canvas step 22, L2Loss = 0.0007339549483731389\n",
      "divided canvas step 23, L2Loss = 0.0007176462677307427\n",
      "divided canvas step 24, L2Loss = 0.0007062750519253314\n",
      "divided canvas step 25, L2Loss = 0.0006952169933356345\n",
      "divided canvas step 26, L2Loss = 0.0006834600935690105\n",
      "divided canvas step 27, L2Loss = 0.0006723689730279148\n",
      "divided canvas step 28, L2Loss = 0.0006607732502743602\n",
      "divided canvas step 29, L2Loss = 0.000649881549179554\n",
      "divided canvas step 30, L2Loss = 0.0006415777024812996\n",
      "divided canvas step 31, L2Loss = 0.0006330114556476474\n",
      "divided canvas step 32, L2Loss = 0.0006245113327167928\n",
      "divided canvas step 33, L2Loss = 0.0006166811799630523\n",
      "divided canvas step 34, L2Loss = 0.0006089690723456442\n",
      "divided canvas step 35, L2Loss = 0.0006027454510331154\n",
      "divided canvas step 36, L2Loss = 0.0005944751319475472\n",
      "divided canvas step 37, L2Loss = 0.0005870602908544242\n",
      "divided canvas step 38, L2Loss = 0.0005789249553345144\n",
      "divided canvas step 39, L2Loss = 0.0005716880550608039\n"
     ]
    }
   ],
   "source": [
    "!python3 baseline/test.py --max_step=80 --actor=actor.pkl --renderer=renderer.pkl --img=image/test.png --divide=5"
   ]
  },
  {
   "cell_type": "code",
   "execution_count": null,
   "metadata": {
    "colab": {},
    "colab_type": "code",
    "id": "tLM4U6F0_yjV"
   },
   "outputs": [],
   "source": [
    "!ffmpeg -r 30 -f image2 -i output/generated%d.png -s 512x512 -c:v libx264 -pix_fmt yuv420p video1.mp4 -q:v 0 -q:a 0"
   ]
  },
  {
   "cell_type": "code",
   "execution_count": null,
   "metadata": {
    "colab": {},
    "colab_type": "code",
    "id": "ekY7HcBeh8zl"
   },
   "outputs": [],
   "source": [
    "from IPython.display import display, Image\n",
    "!pip install moviepy\n",
    "import moviepy.editor as mpy\n",
    "display(mpy.ipython_display('video1.mp4', height=256, max_duration=100.))\n",
    "display(Image('output/generated399.png'))"
   ]
  },
  {
   "cell_type": "code",
   "execution_count": 13,
   "metadata": {},
   "outputs": [
    {
     "data": {
      "image/png": "[encoded data removed]",
      "text/plain": [
       "<IPython.core.display.Image object>"
      ]
     },
     "metadata": {},
     "output_type": "display_data"
    }
   ],
   "source": [
    "display(Image('output/generated1.png'))"
   ]
  },
  {
   "cell_type": "markdown",
   "metadata": {
    "colab_type": "text",
    "id": "d2mAkgRjwwuf"
   },
   "source": [
    "Training"
   ]
  },
  {
   "cell_type": "code",
   "execution_count": 0,
   "metadata": {
    "colab": {},
    "colab_type": "code",
    "id": "_-p0NhqyTqO_"
   },
   "outputs": [],
   "source": [
    "!mkdir data"
   ]
  },
  {
   "cell_type": "code",
   "execution_count": 0,
   "metadata": {
    "colab": {},
    "colab_type": "code",
    "id": "XXAV9RwkTwKh"
   },
   "outputs": [],
   "source": [
    "cd data"
   ]
  },
  {
   "cell_type": "code",
   "execution_count": 0,
   "metadata": {
    "colab": {},
    "colab_type": "code",
    "id": "IzZUVjdrET2G"
   },
   "outputs": [],
   "source": [
    "!gdown https://drive.google.com/uc?id=0B7EVK8r0v71pZjFTYXZWM3FlRnM"
   ]
  },
  {
   "cell_type": "code",
   "execution_count": 0,
   "metadata": {
    "colab": {},
    "colab_type": "code",
    "id": "zgguAW3eETVd"
   },
   "outputs": [],
   "source": [
    "!unzip img_align_celeba.zip"
   ]
  },
  {
   "cell_type": "code",
   "execution_count": 0,
   "metadata": {
    "colab": {},
    "colab_type": "code",
    "id": "XBH--DY-sK8V"
   },
   "outputs": [],
   "source": [
    "!rm img_align_celeba.zip"
   ]
  },
  {
   "cell_type": "code",
   "execution_count": 0,
   "metadata": {
    "colab": {},
    "colab_type": "code",
    "id": "u6mVpjvBvzrb"
   },
   "outputs": [],
   "source": [
    "cd .."
   ]
  },
  {
   "cell_type": "code",
   "execution_count": 0,
   "metadata": {
    "colab": {},
    "colab_type": "code",
    "id": "-PYJVt8pc6BP"
   },
   "outputs": [],
   "source": [
    "!python3 baseline/train_renderer.py"
   ]
  },
  {
   "cell_type": "code",
   "execution_count": 0,
   "metadata": {
    "colab": {},
    "colab_type": "code",
    "id": "VZWjNmD23gKm"
   },
   "outputs": [],
   "source": [
    "!pip install tensorboardX"
   ]
  },
  {
   "cell_type": "code",
   "execution_count": 0,
   "metadata": {
    "colab": {},
    "colab_type": "code",
    "id": "ehnzhWn9GG4I"
   },
   "outputs": [],
   "source": [
    "%%writefile baseline/env.py\n",
    "import sys\n",
    "import json\n",
    "import torch\n",
    "import numpy as np\n",
    "import argparse\n",
    "import torchvision.transforms as transforms\n",
    "import cv2\n",
    "from DRL.ddpg import decode\n",
    "from utils.util import *\n",
    "from PIL import Image\n",
    "from torchvision import transforms, utils\n",
    "device = torch.device(\"cuda\" if torch.cuda.is_available() else \"cpu\")\n",
    "\n",
    "aug = transforms.Compose(\n",
    "            [transforms.ToPILImage(),\n",
    "             transforms.RandomHorizontalFlip(),\n",
    "             ])\n",
    "\n",
    "width = 128\n",
    "convas_area = width * width\n",
    "\n",
    "img_train = []\n",
    "img_test = []\n",
    "train_num = 0\n",
    "test_num = 0\n",
    "\n",
    "class Paint:\n",
    "    def __init__(self, batch_size, max_step):\n",
    "        self.batch_size = batch_size\n",
    "        self.max_step = max_step\n",
    "        self.action_space = (13)\n",
    "        self.observation_space = (self.batch_size, width, width, 7)\n",
    "        self.test = False\n",
    "        \n",
    "    def load_data(self):\n",
    "        # CelebA\n",
    "        global train_num, test_num\n",
    "        for i in range(200000):\n",
    "            img_id = '%06d' % (i + 1)\n",
    "            try:\n",
    "                img = cv2.imread('./data/img_align_celeba/' + img_id + '.jpg', cv2.IMREAD_UNCHANGED)\n",
    "                img = cv2.resize(img, (width, width))\n",
    "                if i > 2000:                \n",
    "                    train_num += 1\n",
    "                    img_train.append(img)\n",
    "                else:\n",
    "                    test_num += 1\n",
    "                    img_test.append(img)\n",
    "            finally:\n",
    "                if (i + 1) % 10000 == 0:                    \n",
    "                    print('loaded {} images'.format(i + 1))\n",
    "        print('finish loading data, {} training images, {} testing images'.format(str(train_num), str(test_num)))\n",
    "        \n",
    "    def pre_data(self, id, test):\n",
    "        if test:\n",
    "            img = img_test[id]\n",
    "        else:\n",
    "            img = img_train[id]\n",
    "        if not test:\n",
    "            img = aug(img)\n",
    "        img = np.asarray(img)\n",
    "        return np.transpose(img, (2, 0, 1))\n",
    "    \n",
    "    def reset(self, test=False, begin_num=False):\n",
    "        self.test = test\n",
    "        self.imgid = [0] * self.batch_size\n",
    "        self.gt = torch.zeros([self.batch_size, 3, width, width], dtype=torch.uint8).to(device)\n",
    "        for i in range(self.batch_size):\n",
    "            if test:\n",
    "                id = (i + begin_num)  % test_num\n",
    "            else:\n",
    "                id = np.random.randint(train_num)\n",
    "            self.imgid[i] = id\n",
    "            self.gt[i] = torch.tensor(self.pre_data(id, test))\n",
    "        self.tot_reward = ((self.gt.float() / 255) ** 2).mean(1).mean(1).mean(1)\n",
    "        self.stepnum = 0\n",
    "        self.canvas = torch.zeros([self.batch_size, 3, width, width], dtype=torch.uint8).to(device)\n",
    "        self.lastdis = self.ini_dis = self.cal_dis()\n",
    "        return self.observation()\n",
    "    \n",
    "    def observation(self):\n",
    "        # canvas B * 3 * width * width\n",
    "        # gt B * 3 * width * width\n",
    "        # T B * 1 * width * width\n",
    "        ob = []\n",
    "        T = torch.ones([self.batch_size, 1, width, width], dtype=torch.uint8) * self.stepnum\n",
    "        return torch.cat((self.canvas, self.gt, T.to(device)), 1) # canvas, img, T\n",
    "\n",
    "    def cal_trans(self, s, t):\n",
    "        return (s.transpose(0, 3) * t).transpose(0, 3)\n",
    "    \n",
    "    def step(self, action):\n",
    "        self.canvas = (decode(action, self.canvas.float() / 255) * 255).byte()\n",
    "        self.stepnum += 1\n",
    "        ob = self.observation()\n",
    "        done = (self.stepnum == self.max_step)\n",
    "        reward = self.cal_reward() # np.array([0.] * self.batch_size)\n",
    "        return ob.detach(), reward, np.array([done] * self.batch_size), None\n",
    "\n",
    "    def cal_dis(self):\n",
    "        return (((self.canvas.float() - self.gt.float()) / 255) ** 2).mean(1).mean(1).mean(1)\n",
    "    \n",
    "    def cal_reward(self):\n",
    "        dis = self.cal_dis()\n",
    "        reward = (self.lastdis - dis) / (self.ini_dis + 1e-8)\n",
    "        self.lastdis = dis\n",
    "        return to_numpy(reward)\n"
   ]
  },
  {
   "cell_type": "code",
   "execution_count": 0,
   "metadata": {
    "colab": {},
    "colab_type": "code",
    "id": "0kwVmo6yv1w3"
   },
   "outputs": [],
   "source": [
    "!python3 baseline/train.py --max_step=200 --debug --batch_size=96"
   ]
  }
 ],
 "metadata": {
  "accelerator": "GPU",
  "colab": {
   "include_colab_link": true,
   "name": "learningtopaint.ipynb",
   "provenance": [],
   "version": "0.3.2"
  },
  "kernelspec": {
   "display_name": "Python 3",
   "language": "python",
   "name": "python3"
  },
  "language_info": {
   "codemirror_mode": {
    "name": "ipython",
    "version": 3
   },
   "file_extension": ".py",
   "mimetype": "text/x-python",
   "name": "python",
   "nbconvert_exporter": "python",
   "pygments_lexer": "ipython3",
   "version": "3.7.10"
  }
 },
 "nbformat": 4,
 "nbformat_minor": 1
}
